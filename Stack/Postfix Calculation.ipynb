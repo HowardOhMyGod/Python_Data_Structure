{
 "cells": [
  {
   "cell_type": "code",
   "execution_count": 4,
   "metadata": {},
   "outputs": [
    {
     "data": {
      "text/plain": [
       "['10']"
      ]
     },
     "execution_count": 4,
     "metadata": {},
     "output_type": "execute_result"
    }
   ],
   "source": [
    "x = ['1']\n",
    "x[0] += '0'\n",
    "x"
   ]
  },
  {
   "cell_type": "code",
   "execution_count": 5,
   "metadata": {
    "collapsed": true
   },
   "outputs": [],
   "source": [
    "operator = \"*/+-\""
   ]
  },
  {
   "cell_type": "code",
   "execution_count": 6,
   "metadata": {
    "collapsed": true
   },
   "outputs": [],
   "source": [
    "def less_priority(char, arithStack):\n",
    "    if operator.index(char) > operator.index(arithStack[-1]):\n",
    "        return True\n",
    "    else: return False"
   ]
  },
  {
   "cell_type": "code",
   "execution_count": 7,
   "metadata": {
    "collapsed": true
   },
   "outputs": [],
   "source": [
    "def conbine_digit(s):\n",
    "    result = []\n",
    "    digits = \"\"\n",
    "    for idx, char in enumerate(s):\n",
    "        if char not in operator:\n",
    "            digits += char\n",
    "        elif char in operator:\n",
    "            result.append(digits)\n",
    "            result.append(char)\n",
    "            digits = ''\n",
    "            \n",
    "    result.append(digits)\n",
    "    return result"
   ]
  },
  {
   "cell_type": "code",
   "execution_count": 8,
   "metadata": {},
   "outputs": [
    {
     "data": {
      "text/plain": [
       "['100', '*', '100', '+', '23']"
      ]
     },
     "execution_count": 8,
     "metadata": {},
     "output_type": "execute_result"
    }
   ],
   "source": [
    "conbine_digit('100*100+23')"
   ]
  },
  {
   "cell_type": "code",
   "execution_count": 9,
   "metadata": {
    "collapsed": true
   },
   "outputs": [],
   "source": [
    "def infix_to_posfix(s):\n",
    "    s = conbine_digit(s)\n",
    "    arithStack = []\n",
    "    posfixStack = []\n",
    "    \n",
    "    for idx, char in enumerate(s):\n",
    "        if char not in operator: # detect opertor\n",
    "            posfixStack.append(char)\n",
    "        else: #detect operand\n",
    "            # check arithStack is empty and priority\n",
    "            if len(arithStack) == 0 or less_priority(char, arithStack) == False:\n",
    "                arithStack.append(char)\n",
    "\n",
    "            elif less_priority(char, arithStack) == True:\n",
    "                for arith in reversed(arithStack):\n",
    "                    posfixStack.append(arith)\n",
    "                arithStack = []\n",
    "                arithStack.append(char)\n",
    "    if len(arithStack):\n",
    "        for arith in reversed(arithStack):\n",
    "            posfixStack.append(arith)\n",
    "    return posfixStack"
   ]
  },
  {
   "cell_type": "code",
   "execution_count": 10,
   "metadata": {},
   "outputs": [
    {
     "data": {
      "text/plain": [
       "['100', '100', '*', '2', '23', '+', '+']"
      ]
     },
     "execution_count": 10,
     "metadata": {},
     "output_type": "execute_result"
    }
   ],
   "source": [
    "infix_to_posfix(\"100*100+2+23\")"
   ]
  },
  {
   "cell_type": "code",
   "execution_count": 32,
   "metadata": {
    "collapsed": true
   },
   "outputs": [],
   "source": [
    "def arith(char, stack):\n",
    "    cal = None\n",
    "    if char is '+':\n",
    "        cal = stack[-2] + stack[-1]\n",
    "    elif char is '-':\n",
    "        cal = stack[-2] - stack[-1]\n",
    "    elif char is '*':\n",
    "        cal = stack[-2] * stack[-1]\n",
    "    elif char is '/':\n",
    "        cal = stack[-2] / stack[-1]\n",
    "    return cal"
   ]
  },
  {
   "cell_type": "code",
   "execution_count": 33,
   "metadata": {
    "collapsed": true
   },
   "outputs": [],
   "source": [
    "def calc(s):\n",
    "    operator = \"+-*/\"\n",
    "    stack = []\n",
    "    \n",
    "    for idx, char in enumerate(s):\n",
    "        if char not in operator:\n",
    "            stack.append(int(char))\n",
    "        elif char in operator:\n",
    "            cal = None\n",
    "            \n",
    "            cal = arith(char, stack)\n",
    "            \n",
    "            stack[-2:] = []\n",
    "            stack.append(cal)\n",
    "    return cal\n",
    "            \n",
    "                "
   ]
  },
  {
   "cell_type": "code",
   "execution_count": 34,
   "metadata": {},
   "outputs": [
    {
     "data": {
      "text/plain": [
       "100.0"
      ]
     },
     "execution_count": 34,
     "metadata": {},
     "output_type": "execute_result"
    }
   ],
   "source": [
    "calc(['100', '100', '*', '100', '/'])"
   ]
  },
  {
   "cell_type": "markdown",
   "metadata": {
    "collapsed": true
   },
   "source": [
    "## Main"
   ]
  },
  {
   "cell_type": "code",
   "execution_count": 35,
   "metadata": {},
   "outputs": [
    {
     "name": "stdout",
     "output_type": "stream",
     "text": [
      "['100', '100', '2', '*', '*', '5', '/']\n"
     ]
    },
    {
     "data": {
      "text/plain": [
       "4000.0"
      ]
     },
     "execution_count": 35,
     "metadata": {},
     "output_type": "execute_result"
    }
   ],
   "source": [
    "conbin_s = conbine_digit(\"100*100*2/5\")\n",
    "posfix_string = infix_to_posfix(conbin_s)\n",
    "print(posfix_string)\n",
    "result = calc(posfix_string)\n",
    "\n",
    "result"
   ]
  },
  {
   "cell_type": "code",
   "execution_count": null,
   "metadata": {
    "collapsed": true
   },
   "outputs": [],
   "source": []
  }
 ],
 "metadata": {
  "kernelspec": {
   "display_name": "Python 3",
   "language": "python",
   "name": "python3"
  },
  "language_info": {
   "codemirror_mode": {
    "name": "ipython",
    "version": 3
   },
   "file_extension": ".py",
   "mimetype": "text/x-python",
   "name": "python",
   "nbconvert_exporter": "python",
   "pygments_lexer": "ipython3",
   "version": "3.6.0"
  }
 },
 "nbformat": 4,
 "nbformat_minor": 2
}
