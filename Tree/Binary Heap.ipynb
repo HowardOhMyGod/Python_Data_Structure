{
 "cells": [
  {
   "cell_type": "markdown",
   "metadata": {},
   "source": [
    "# Binary Heap Implementation"
   ]
  },
  {
   "cell_type": "code",
   "execution_count": 12,
   "metadata": {},
   "outputs": [],
   "source": [
    "class BinaryHeap:\n",
    "    def __init__(self):\n",
    "        self.heapList = [0]\n",
    "        self.currentSize = 0\n",
    "    \n",
    "    # insert a list of nodes to heap\n",
    "    def insert(self, valList):\n",
    "        for val in valList:\n",
    "            self.heapList.append(val)\n",
    "            self.currentSize += 1\n",
    "            self.putup()\n",
    "            print(self.heapList[1:])\n",
    "        \n",
    "    # putup the new node when the value of new node is less than its parrent node\n",
    "    def putup(self):\n",
    "        currentPos = self.currentSize\n",
    "        rootPos = currentPos // 2\n",
    "        \n",
    "        while self.heapList[currentPos] < self.heapList[rootPos]:\n",
    "            self.swap(rootPos, currentPos)\n",
    "            currentPos = rootPos\n",
    "            rootPos = currentPos // 2\n",
    "            \n",
    "    # delete and return the minimun key value from the heap\n",
    "    def delMin(self):\n",
    "        minimun = self.heapList[1]\n",
    "        self.heapList[1] = self.heapList.pop()\n",
    "        self.currentSize -= 1\n",
    "        self.putdown(1)\n",
    "        \n",
    "        print(self.heapList[1:])\n",
    "        return minimun\n",
    "    \n",
    "    # put now the new root while its value is bigger than its two childs\n",
    "    def putdown(self, i):\n",
    "        while (i * 2) <= self.currentSize:\n",
    "            minChildPos = self.minChild(i)\n",
    "\n",
    "            if self.heapList[i] > self.heapList[minChildPos]:\n",
    "                self.swap(i, minChildPos)\n",
    "            i = minChildPos\n",
    "    \n",
    "    # decide min child pos to swap\n",
    "    def minChild(self, i):\n",
    "        # if only two node in subtree\n",
    "        if (i * 2 + 1) > self.currentSize:\n",
    "            return i * 2\n",
    "        \n",
    "        # if last child is smaller than right child\n",
    "        else:\n",
    "            if self.heapList[i * 2] < self.heapList[i * 2 + 1]:\n",
    "                return i * 2\n",
    "        \n",
    "            # if right child is smaller\n",
    "            else:\n",
    "                return i * 2 + 1\n",
    "        \n",
    "    # swap current node and parent node\n",
    "    def swap(self, rootPos, childPos):\n",
    "        temp = self.heapList[rootPos]\n",
    "        self.heapList[rootPos] = self.heapList[childPos]\n",
    "        self.heapList[childPos] = temp\n",
    "    \n",
    "    def buildHeap(self, alist):\n",
    "        i = len(alist) // 2\n",
    "        self.currentSize = len(alist)\n",
    "        self.heapList = [0] + alist[:]\n",
    "        \n",
    "        while (i > 0):\n",
    "            self.putdown(i)\n",
    "            i = i - 1\n",
    "        print(self.heapList)\n",
    "    def size(self):\n",
    "        return len(self.heapList) - 1\n",
    "    \n",
    "    def isEmpty(self):\n",
    "        return len(self.heapList) == 1\n",
    "    \n",
    "    def findMin(self):\n",
    "        if not self.isEmpty():\n",
    "            return self.heapList[1]\n",
    "        else:\n",
    "            print(\"The heap is empty!\")\n",
    "            "
   ]
  },
  {
   "cell_type": "code",
   "execution_count": 13,
   "metadata": {},
   "outputs": [],
   "source": [
    "heap = BinaryHeap()\n"
   ]
  },
  {
   "cell_type": "code",
   "execution_count": 14,
   "metadata": {},
   "outputs": [
    {
     "name": "stdout",
     "output_type": "stream",
     "text": [
      "[0, 0, 1, 3, 6, 5, 6]\n"
     ]
    }
   ],
   "source": [
    "heap.buildHeap([1,6,3,0,5,6])"
   ]
  },
  {
   "cell_type": "code",
   "execution_count": null,
   "metadata": {},
   "outputs": [],
   "source": [
    "print(heap.size())\n",
    "print(heap.isEmpty())\n",
    "print(heap.findMin())"
   ]
  },
  {
   "cell_type": "code",
   "execution_count": null,
   "metadata": {},
   "outputs": [],
   "source": [
    "heap.insert([1, 2, 3, 0, 5, 6])"
   ]
  },
  {
   "cell_type": "code",
   "execution_count": null,
   "metadata": {},
   "outputs": [],
   "source": [
    "heap.delMin()"
   ]
  },
  {
   "cell_type": "code",
   "execution_count": null,
   "metadata": {},
   "outputs": [],
   "source": [
    "heap.delMin()"
   ]
  },
  {
   "cell_type": "code",
   "execution_count": 15,
   "metadata": {},
   "outputs": [
    {
     "data": {
      "text/plain": [
       "2"
      ]
     },
     "execution_count": 15,
     "metadata": {},
     "output_type": "execute_result"
    }
   ],
   "source": []
  },
  {
   "cell_type": "code",
   "execution_count": null,
   "metadata": {
    "collapsed": true
   },
   "outputs": [],
   "source": []
  }
 ],
 "metadata": {
  "kernelspec": {
   "display_name": "Python 3",
   "language": "python",
   "name": "python3"
  },
  "language_info": {
   "codemirror_mode": {
    "name": "ipython",
    "version": 3
   },
   "file_extension": ".py",
   "mimetype": "text/x-python",
   "name": "python",
   "nbconvert_exporter": "python",
   "pygments_lexer": "ipython3",
   "version": "3.6.0"
  }
 },
 "nbformat": 4,
 "nbformat_minor": 2
}
