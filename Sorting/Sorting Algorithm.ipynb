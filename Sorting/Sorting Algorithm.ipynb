{
 "cells": [
  {
   "cell_type": "code",
   "execution_count": 20,
   "metadata": {
    "collapsed": true
   },
   "outputs": [],
   "source": [
    "import random\n",
    "l = random.sample(range(1000), 1000)"
   ]
  },
  {
   "cell_type": "markdown",
   "metadata": {},
   "source": [
    "## Selection Sort"
   ]
  },
  {
   "cell_type": "code",
   "execution_count": 2,
   "metadata": {
    "collapsed": true
   },
   "outputs": [],
   "source": [
    "def selectionSort(l):\n",
    "    for idx, el in enumerate(l[:-1]):\n",
    "        minPos = idx\n",
    "        j = idx + 1\n",
    "        \n",
    "        for i in l[idx + 1:]:\n",
    "            if i < l[minPos]:\n",
    "                minPos = j\n",
    "            j += 1\n",
    "        \n",
    "        temp = l[idx]\n",
    "        l[idx] = l[minPos]\n",
    "        l[minPos] = temp\n",
    "                      \n",
    "    return l"
   ]
  },
  {
   "cell_type": "code",
   "execution_count": 3,
   "metadata": {
    "collapsed": true
   },
   "outputs": [],
   "source": [
    "# selectionSort(l)"
   ]
  },
  {
   "cell_type": "markdown",
   "metadata": {},
   "source": [
    "#### Time Complexity = O(n^2)"
   ]
  },
  {
   "cell_type": "markdown",
   "metadata": {},
   "source": [
    "## Bubble Sort"
   ]
  },
  {
   "cell_type": "code",
   "execution_count": 4,
   "metadata": {
    "collapsed": true
   },
   "outputs": [],
   "source": [
    "def bubbleSort(l):\n",
    "    for i in range(len(l)):\n",
    "        flag = 0\n",
    "        for j in range(len(l)-1):\n",
    "            if(l[j] > l[j + 1]):\n",
    "                temp = l[j]\n",
    "                l[j] = l[j + 1]\n",
    "                l[j + 1] = temp\n",
    "                flag = 1\n",
    "        # if no swap means that the list is sorted\n",
    "        if flag is 0:\n",
    "            break\n",
    "    return l"
   ]
  },
  {
   "cell_type": "code",
   "execution_count": 5,
   "metadata": {},
   "outputs": [
    {
     "name": "stdout",
     "output_type": "stream",
     "text": [
      "100000 loops, best of 3: 5.38 µs per loop\n"
     ]
    }
   ],
   "source": [
    "%timeit bubbleSort([i for i in range(20)])"
   ]
  },
  {
   "cell_type": "code",
   "execution_count": 6,
   "metadata": {},
   "outputs": [
    {
     "name": "stdout",
     "output_type": "stream",
     "text": [
      "100000 loops, best of 3: 5.4 µs per loop\n"
     ]
    }
   ],
   "source": [
    "%timeit bubbleSort([i for i in range(20)])"
   ]
  },
  {
   "cell_type": "markdown",
   "metadata": {},
   "source": [
    "#### Time Complexity = O(n^2)"
   ]
  },
  {
   "cell_type": "markdown",
   "metadata": {},
   "source": [
    "## Insertion Sort"
   ]
  },
  {
   "cell_type": "code",
   "execution_count": 7,
   "metadata": {
    "collapsed": true
   },
   "outputs": [],
   "source": [
    "def insertSort(l):\n",
    "    for idx in range(1, len(l)):\n",
    "        value = l[idx]\n",
    "        hole = idx #real index of l\n",
    "        \n",
    "        while hole > 0 and value < l[hole - 1]:\n",
    "            l[hole] = l[hole - 1]\n",
    "            hole -= 1\n",
    "        l[hole] = value  \n",
    "    return l"
   ]
  },
  {
   "cell_type": "code",
   "execution_count": 8,
   "metadata": {},
   "outputs": [
    {
     "data": {
      "text/plain": [
       "[1, 2, 3, 4, 5, 6]"
      ]
     },
     "execution_count": 8,
     "metadata": {},
     "output_type": "execute_result"
    }
   ],
   "source": [
    "insertSort([6,5,4,3,2,1])"
   ]
  },
  {
   "cell_type": "markdown",
   "metadata": {},
   "source": [
    "#### time complexity = O(n^2)"
   ]
  },
  {
   "cell_type": "markdown",
   "metadata": {},
   "source": [
    "## Merge Sort"
   ]
  },
  {
   "cell_type": "code",
   "execution_count": 48,
   "metadata": {},
   "outputs": [],
   "source": [
    "def merge(leftList, rightList):\n",
    "    result = []\n",
    "    \n",
    "    ln = 0\n",
    "    rn = 0\n",
    "    \n",
    "    while len(result) != (len(leftList) + len(rightList)):\n",
    "        if(leftList[ln] < rightList[rn]):\n",
    "            result.append(leftList[ln])\n",
    "            ln += 1\n",
    "        else:\n",
    "            result.append(rightList[rn])\n",
    "            rn += 1\n",
    "        if ln == len(leftList) or rn == len(rightList):\n",
    "            result.extend(leftList[ln:] or rightList[rn:])\n",
    "            break\n",
    "            \n",
    "    return result\n",
    "    "
   ]
  },
  {
   "cell_type": "code",
   "execution_count": 49,
   "metadata": {},
   "outputs": [
    {
     "data": {
      "text/plain": [
       "[1, 2, 3, 4]"
      ]
     },
     "execution_count": 49,
     "metadata": {},
     "output_type": "execute_result"
    }
   ],
   "source": [
    "merge([2,3], [1,4])"
   ]
  },
  {
   "cell_type": "code",
   "execution_count": 50,
   "metadata": {
    "collapsed": true
   },
   "outputs": [],
   "source": [
    "def mergeSort(l):\n",
    "    \n",
    "    if len(l) < 2:\n",
    "        return l\n",
    "    \n",
    "    mid = len(l) // 2\n",
    "    \n",
    "    left = mergeSort(l[:mid])\n",
    "    right = mergeSort(l[mid:])\n",
    "    \n",
    "    return merge(left, right)"
   ]
  },
  {
   "cell_type": "markdown",
   "metadata": {},
   "source": [
    "#### time complexity == O(nlogn)"
   ]
  },
  {
   "cell_type": "code",
   "execution_count": 51,
   "metadata": {
    "scrolled": true
   },
   "outputs": [
    {
     "data": {
      "text/plain": [
       "[1, 2, 3, 4, 5]"
      ]
     },
     "execution_count": 51,
     "metadata": {},
     "output_type": "execute_result"
    }
   ],
   "source": [
    "mergeSort([5,4,3,2,1])"
   ]
  },
  {
   "cell_type": "code",
   "execution_count": 52,
   "metadata": {},
   "outputs": [],
   "source": [
    "l = list(reversed([i for i in range(100)]))"
   ]
  },
  {
   "cell_type": "code",
   "execution_count": 53,
   "metadata": {},
   "outputs": [
    {
     "name": "stdout",
     "output_type": "stream",
     "text": [
      "The slowest run took 215.74 times longer than the fastest. This could mean that an intermediate result is being cached.\n",
      "10000 loops, best of 3: 16.2 µs per loop\n"
     ]
    }
   ],
   "source": [
    "%timeit bubbleSort(l)"
   ]
  },
  {
   "cell_type": "code",
   "execution_count": 54,
   "metadata": {},
   "outputs": [
    {
     "name": "stdout",
     "output_type": "stream",
     "text": [
      "1000 loops, best of 3: 636 µs per loop\n"
     ]
    }
   ],
   "source": [
    "%timeit selectionSort(l)"
   ]
  },
  {
   "cell_type": "code",
   "execution_count": 55,
   "metadata": {},
   "outputs": [
    {
     "name": "stdout",
     "output_type": "stream",
     "text": [
      "10000 loops, best of 3: 26 µs per loop\n"
     ]
    }
   ],
   "source": [
    "%timeit insertSort(l)"
   ]
  },
  {
   "cell_type": "code",
   "execution_count": 56,
   "metadata": {},
   "outputs": [
    {
     "name": "stdout",
     "output_type": "stream",
     "text": [
      "1000 loops, best of 3: 435 µs per loop\n"
     ]
    }
   ],
   "source": [
    "%timeit mergeSort(l)"
   ]
  },
  {
   "cell_type": "code",
   "execution_count": null,
   "metadata": {},
   "outputs": [],
   "source": []
  },
  {
   "cell_type": "code",
   "execution_count": null,
   "metadata": {
    "collapsed": true
   },
   "outputs": [],
   "source": []
  }
 ],
 "metadata": {
  "kernelspec": {
   "display_name": "Python 3",
   "language": "python",
   "name": "python3"
  },
  "language_info": {
   "codemirror_mode": {
    "name": "ipython",
    "version": 3
   },
   "file_extension": ".py",
   "mimetype": "text/x-python",
   "name": "python",
   "nbconvert_exporter": "python",
   "pygments_lexer": "ipython3",
   "version": "3.6.0"
  }
 },
 "nbformat": 4,
 "nbformat_minor": 2
}
