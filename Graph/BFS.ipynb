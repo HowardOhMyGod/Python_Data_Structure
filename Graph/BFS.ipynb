{
 "cells": [
  {
   "cell_type": "markdown",
   "metadata": {},
   "source": [
    "## BFS sudo code"
   ]
  },
  {
   "cell_type": "code",
   "execution_count": null,
   "metadata": {
    "collapsed": true
   },
   "outputs": [],
   "source": [
    "def BFS(s, adj):\n",
    "    level = {s: 0}\n",
    "    parent = {s: None}\n",
    "    i = 1\n",
    "    frontier = [s]\n",
    "    \n",
    "    while frontier:\n",
    "        nextFrontier = []\n",
    "        for u in frontier:\n",
    "            for v in adj[u]:\n",
    "                if v not in level:\n",
    "                    level[v] = i\n",
    "                    parent[v] = u\n",
    "                    nextFrontier.append(v)\n",
    "    frontier = nextFrontier\n",
    "    i += 1"
   ]
  }
 ],
 "metadata": {
  "kernelspec": {
   "display_name": "Python 3",
   "language": "python",
   "name": "python3"
  },
  "language_info": {
   "codemirror_mode": {
    "name": "ipython",
    "version": 3
   },
   "file_extension": ".py",
   "mimetype": "text/x-python",
   "name": "python",
   "nbconvert_exporter": "python",
   "pygments_lexer": "ipython3",
   "version": "3.6.0"
  }
 },
 "nbformat": 4,
 "nbformat_minor": 2
}
