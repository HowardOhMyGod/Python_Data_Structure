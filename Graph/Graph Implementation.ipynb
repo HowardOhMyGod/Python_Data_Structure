{
 "cells": [
  {
   "cell_type": "code",
   "execution_count": 1,
   "metadata": {
    "collapsed": true
   },
   "outputs": [],
   "source": [
    "class Vertex:\n",
    "    def __init__(self, key):\n",
    "        self.key = key\n",
    "        self.connectTo = {}\n",
    "    \n",
    "    def addNeighbor(self, nbr, weight = 0):\n",
    "        self.connectTo[nbr] = weight\n",
    "    \n",
    "    def getConnections(self):\n",
    "        return self.connectTo.keys()\n",
    "    \n",
    "    def getKey(self):\n",
    "        return self.key\n",
    "    \n",
    "    def getWeight(self, nbr):\n",
    "        return self.connectTo[nbr]"
   ]
  },
  {
   "cell_type": "code",
   "execution_count": 18,
   "metadata": {
    "collapsed": true
   },
   "outputs": [],
   "source": [
    "class Graph:\n",
    "    def __init__(self):\n",
    "        self.vertexList = {}\n",
    "        \n",
    "    def addVertex(self, key):\n",
    "        vertex = Vertex(key)\n",
    "        self.vertexList[key] = vertex\n",
    "        return vertex\n",
    "    \n",
    "    def addEdge(self, f, t, weight = 0):\n",
    "        if f not in self.vertexList:\n",
    "            self.addVertex(f)\n",
    "        if t not in self.vertexList:\n",
    "            self.addVertex(t)\n",
    "            \n",
    "        # create undirected edge\n",
    "        self.vertexList[f].addNeighbor(t, weight)\n",
    "        self.vertexList[t].addNeighbor(f, weight)\n",
    "        \n",
    "    def getVertex(self, key):\n",
    "        return self.vertexList[key]\n",
    "    \n",
    "    def getVertices(self):\n",
    "        return self.vertexList.keys()\n",
    "    \n",
    "    def __contains__(self, key):\n",
    "        return key in self.vertexList\n",
    "    \n",
    "    def __iter__(self):\n",
    "        return iter(self.vertexList.values())"
   ]
  },
  {
   "cell_type": "code",
   "execution_count": 19,
   "metadata": {
    "collapsed": true
   },
   "outputs": [],
   "source": [
    "g = Graph()"
   ]
  },
  {
   "cell_type": "code",
   "execution_count": 20,
   "metadata": {
    "collapsed": true
   },
   "outputs": [],
   "source": [
    "for i in range(6):\n",
    "    g.addVertex(i)"
   ]
  },
  {
   "cell_type": "code",
   "execution_count": 21,
   "metadata": {},
   "outputs": [
    {
     "data": {
      "text/plain": [
       "{0: <__main__.Vertex at 0x1404290>,\n",
       " 1: <__main__.Vertex at 0x1404450>,\n",
       " 2: <__main__.Vertex at 0x14043f0>,\n",
       " 3: <__main__.Vertex at 0x1404230>,\n",
       " 4: <__main__.Vertex at 0x1404190>,\n",
       " 5: <__main__.Vertex at 0x1404130>}"
      ]
     },
     "execution_count": 21,
     "metadata": {},
     "output_type": "execute_result"
    }
   ],
   "source": [
    "g.vertexList"
   ]
  },
  {
   "cell_type": "code",
   "execution_count": 22,
   "metadata": {
    "collapsed": true
   },
   "outputs": [],
   "source": [
    "g.addEdge(0, 3, 10)"
   ]
  },
  {
   "cell_type": "code",
   "execution_count": 23,
   "metadata": {},
   "outputs": [
    {
     "name": "stdout",
     "output_type": "stream",
     "text": [
      "0\n",
      "dict_keys([3])\n",
      "----\n",
      "1\n",
      "dict_keys([])\n",
      "----\n",
      "2\n",
      "dict_keys([])\n",
      "----\n",
      "3\n",
      "dict_keys([0])\n",
      "----\n",
      "4\n",
      "dict_keys([])\n",
      "----\n",
      "5\n",
      "dict_keys([])\n",
      "----\n"
     ]
    }
   ],
   "source": [
    "for vertex in g:\n",
    "    print(vertex.key)\n",
    "    print(vertex.getConnections())\n",
    "    print('----')"
   ]
  },
  {
   "cell_type": "code",
   "execution_count": null,
   "metadata": {
    "collapsed": true
   },
   "outputs": [],
   "source": []
  }
 ],
 "metadata": {
  "kernelspec": {
   "display_name": "Python 3",
   "language": "python",
   "name": "python3"
  },
  "language_info": {
   "codemirror_mode": {
    "name": "ipython",
    "version": 3
   },
   "file_extension": ".py",
   "mimetype": "text/x-python",
   "name": "python",
   "nbconvert_exporter": "python",
   "pygments_lexer": "ipython3",
   "version": "3.6.0"
  }
 },
 "nbformat": 4,
 "nbformat_minor": 2
}
